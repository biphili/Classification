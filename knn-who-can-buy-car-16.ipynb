{
 "cells": [
  {
   "cell_type": "markdown",
   "metadata": {
    "papermill": {
     "duration": 0.032522,
     "end_time": "2021-03-31T04:07:10.208239",
     "exception": false,
     "start_time": "2021-03-31T04:07:10.175717",
     "status": "completed"
    },
    "tags": []
   },
   "source": [
    "### Recently I published a self help book titled Inspiration: Thoughts on Spirituality, Technology, Wealth, Leadership and Motivation. The preview of the book can be read from the Amazon link https://lnkd.in/gj7bMQA"
   ]
  },
  {
   "cell_type": "markdown",
   "metadata": {
    "papermill": {
     "duration": 0.032014,
     "end_time": "2021-03-31T04:07:10.273649",
     "exception": false,
     "start_time": "2021-03-31T04:07:10.241635",
     "status": "completed"
    },
    "tags": []
   },
   "source": [
    "KNN is a supervised machine learning algorithm.It can be used to classification of data set.Here I will be sharing code for implementing kNN and share some tricks for KNN.The dataset contains the Age,salary and the decision to purchase a particular Car.We will be using KNN to predict if a particular person will buy a car.The notebook will cover following topics \n",
    "\n",
    "1.Data Import and Preprocessing \n",
    "\n",
    "2.Exploratory Data Analysis \n",
    "\n",
    "3.Model Built \n",
    "\n",
    "4.Model Evaluation \n",
    "\n",
    "5.Optimum Value of k \n",
    "\n",
    "6.Conclusion \n",
    "\n",
    "### To can refer to my other notebooks from https://www.kaggle.com/binuthomasphilip/code"
   ]
  },
  {
   "cell_type": "code",
   "execution_count": 1,
   "metadata": {
    "_cell_guid": "b1076dfc-b9ad-4769-8c92-a6c4dae69d19",
    "_kg_hide-input": true,
    "_uuid": "8f2839f25d086af736a60e9eeb907d3b93b6e0e5",
    "execution": {
     "iopub.execute_input": "2021-03-31T04:07:10.343331Z",
     "iopub.status.busy": "2021-03-31T04:07:10.342657Z",
     "iopub.status.idle": "2021-03-31T04:07:10.360396Z",
     "shell.execute_reply": "2021-03-31T04:07:10.360913Z"
    },
    "papermill": {
     "duration": 0.056394,
     "end_time": "2021-03-31T04:07:10.361306",
     "exception": false,
     "start_time": "2021-03-31T04:07:10.304912",
     "status": "completed"
    },
    "tags": []
   },
   "outputs": [
    {
     "name": "stdout",
     "output_type": "stream",
     "text": [
      "/kaggle/input/social-network-ads/Social_Network_Ads.csv\n"
     ]
    }
   ],
   "source": [
    "# This Python 3 environment comes with many helpful analytics libraries installed\n",
    "# It is defined by the kaggle/python Docker image: https://github.com/kaggle/docker-python\n",
    "# For example, here's several helpful packages to load\n",
    "\n",
    "import numpy as np # linear algebra\n",
    "import pandas as pd # data processing, CSV file I/O (e.g. pd.read_csv)\n",
    "\n",
    "# Input data files are available in the read-only \"../input/\" directory\n",
    "# For example, running this (by clicking run or pressing Shift+Enter) will list all files under the input directory\n",
    "\n",
    "import os\n",
    "for dirname, _, filenames in os.walk('/kaggle/input'):\n",
    "    for filename in filenames:\n",
    "        print(os.path.join(dirname, filename))\n",
    "\n",
    "# You can write up to 20GB to the current directory (/kaggle/working/) that gets preserved as output when you create a version using \"Save & Run All\" \n",
    "# You can also write temporary files to /kaggle/temp/, but they won't be saved outside of the current session"
   ]
  },
  {
   "cell_type": "markdown",
   "metadata": {
    "papermill": {
     "duration": 0.031788,
     "end_time": "2021-03-31T04:07:10.426608",
     "exception": false,
     "start_time": "2021-03-31T04:07:10.394820",
     "status": "completed"
    },
    "tags": []
   },
   "source": [
    "# 1.Data Import and Preprocessing "
   ]
  },
  {
   "cell_type": "markdown",
   "metadata": {
    "papermill": {
     "duration": 0.031155,
     "end_time": "2021-03-31T04:07:10.489291",
     "exception": false,
     "start_time": "2021-03-31T04:07:10.458136",
     "status": "completed"
    },
    "tags": []
   },
   "source": [
    "### Importing Python Modules"
   ]
  },
  {
   "cell_type": "code",
   "execution_count": 2,
   "metadata": {
    "_kg_hide-input": true,
    "execution": {
     "iopub.execute_input": "2021-03-31T04:07:10.557994Z",
     "iopub.status.busy": "2021-03-31T04:07:10.557280Z",
     "iopub.status.idle": "2021-03-31T04:07:11.388829Z",
     "shell.execute_reply": "2021-03-31T04:07:11.388160Z"
    },
    "papermill": {
     "duration": 0.868266,
     "end_time": "2021-03-31T04:07:11.388973",
     "exception": false,
     "start_time": "2021-03-31T04:07:10.520707",
     "status": "completed"
    },
    "tags": []
   },
   "outputs": [],
   "source": [
    "import numpy as np\n",
    "import matplotlib.pyplot as plt \n",
    "import pandas as pd \n",
    "import seaborn as sns\n",
    "import warnings\n",
    "warnings.filterwarnings('ignore') \n",
    "plt.style.use('fivethirtyeight')"
   ]
  },
  {
   "cell_type": "markdown",
   "metadata": {
    "papermill": {
     "duration": 0.03124,
     "end_time": "2021-03-31T04:07:11.453238",
     "exception": false,
     "start_time": "2021-03-31T04:07:11.421998",
     "status": "completed"
    },
    "tags": []
   },
   "source": [
    "To can refer to my other notebooks from https://www.kaggle.com/binuthomasphilip/code"
   ]
  },
  {
   "cell_type": "markdown",
   "metadata": {
    "papermill": {
     "duration": 0.03184,
     "end_time": "2021-03-31T04:07:11.517054",
     "exception": false,
     "start_time": "2021-03-31T04:07:11.485214",
     "status": "completed"
    },
    "tags": []
   },
   "source": [
    "### Importing Dataset"
   ]
  },
  {
   "cell_type": "code",
   "execution_count": 3,
   "metadata": {
    "_kg_hide-input": true,
    "execution": {
     "iopub.execute_input": "2021-03-31T04:07:11.586044Z",
     "iopub.status.busy": "2021-03-31T04:07:11.585319Z",
     "iopub.status.idle": "2021-03-31T04:07:11.626844Z",
     "shell.execute_reply": "2021-03-31T04:07:11.626293Z"
    },
    "papermill": {
     "duration": 0.078175,
     "end_time": "2021-03-31T04:07:11.626982",
     "exception": false,
     "start_time": "2021-03-31T04:07:11.548807",
     "status": "completed"
    },
    "tags": []
   },
   "outputs": [
    {
     "data": {
      "text/html": [
       "<div>\n",
       "<style scoped>\n",
       "    .dataframe tbody tr th:only-of-type {\n",
       "        vertical-align: middle;\n",
       "    }\n",
       "\n",
       "    .dataframe tbody tr th {\n",
       "        vertical-align: top;\n",
       "    }\n",
       "\n",
       "    .dataframe thead th {\n",
       "        text-align: right;\n",
       "    }\n",
       "</style>\n",
       "<table border=\"1\" class=\"dataframe\">\n",
       "  <thead>\n",
       "    <tr style=\"text-align: right;\">\n",
       "      <th></th>\n",
       "      <th>User ID</th>\n",
       "      <th>Gender</th>\n",
       "      <th>Age</th>\n",
       "      <th>EstimatedSalary</th>\n",
       "      <th>Purchased</th>\n",
       "    </tr>\n",
       "  </thead>\n",
       "  <tbody>\n",
       "    <tr>\n",
       "      <th>0</th>\n",
       "      <td>15624510</td>\n",
       "      <td>Male</td>\n",
       "      <td>19</td>\n",
       "      <td>19000</td>\n",
       "      <td>0</td>\n",
       "    </tr>\n",
       "    <tr>\n",
       "      <th>1</th>\n",
       "      <td>15810944</td>\n",
       "      <td>Male</td>\n",
       "      <td>35</td>\n",
       "      <td>20000</td>\n",
       "      <td>0</td>\n",
       "    </tr>\n",
       "  </tbody>\n",
       "</table>\n",
       "</div>"
      ],
      "text/plain": [
       "    User ID Gender  Age  EstimatedSalary  Purchased\n",
       "0  15624510   Male   19            19000          0\n",
       "1  15810944   Male   35            20000          0"
      ]
     },
     "execution_count": 3,
     "metadata": {},
     "output_type": "execute_result"
    }
   ],
   "source": [
    "dataset=pd.read_csv('../input/social-network-ads/Social_Network_Ads.csv')\n",
    "dataset.head(2)"
   ]
  },
  {
   "cell_type": "markdown",
   "metadata": {
    "papermill": {
     "duration": 0.031728,
     "end_time": "2021-03-31T04:07:11.691839",
     "exception": false,
     "start_time": "2021-03-31T04:07:11.660111",
     "status": "completed"
    },
    "tags": []
   },
   "source": [
    "So we have the User ID, Gender,Age,Salary and the data if Purchase made by a used."
   ]
  },
  {
   "cell_type": "markdown",
   "metadata": {
    "papermill": {
     "duration": 0.035028,
     "end_time": "2021-03-31T04:07:11.759136",
     "exception": false,
     "start_time": "2021-03-31T04:07:11.724108",
     "status": "completed"
    },
    "tags": []
   },
   "source": [
    "### Summary of Dataset"
   ]
  },
  {
   "cell_type": "code",
   "execution_count": 4,
   "metadata": {
    "_kg_hide-input": true,
    "execution": {
     "iopub.execute_input": "2021-03-31T04:07:11.831455Z",
     "iopub.status.busy": "2021-03-31T04:07:11.830437Z",
     "iopub.status.idle": "2021-03-31T04:07:11.844403Z",
     "shell.execute_reply": "2021-03-31T04:07:11.843760Z"
    },
    "papermill": {
     "duration": 0.053065,
     "end_time": "2021-03-31T04:07:11.844551",
     "exception": false,
     "start_time": "2021-03-31T04:07:11.791486",
     "status": "completed"
    },
    "tags": []
   },
   "outputs": [
    {
     "name": "stdout",
     "output_type": "stream",
     "text": [
      "Rows     : 400\n",
      "Columns  : 5\n",
      "\n",
      "Features :\n",
      "     : ['User ID', 'Gender', 'Age', 'EstimatedSalary', 'Purchased']\n",
      "\n",
      "Missing values    : 0\n",
      "\n",
      "Unique values :  \n",
      " User ID            400\n",
      "Gender               2\n",
      "Age                 43\n",
      "EstimatedSalary    117\n",
      "Purchased            2\n",
      "dtype: int64\n"
     ]
    }
   ],
   "source": [
    "print('Rows     :',dataset.shape[0])\n",
    "print('Columns  :',dataset.shape[1])\n",
    "print('\\nFeatures :\\n     :',dataset.columns.tolist())\n",
    "print('\\nMissing values    :',dataset.isnull().values.sum())\n",
    "print('\\nUnique values :  \\n',dataset.nunique())"
   ]
  },
  {
   "cell_type": "markdown",
   "metadata": {
    "papermill": {
     "duration": 0.03247,
     "end_time": "2021-03-31T04:07:11.909850",
     "exception": false,
     "start_time": "2021-03-31T04:07:11.877380",
     "status": "completed"
    },
    "tags": []
   },
   "source": [
    "### Describing the Data"
   ]
  },
  {
   "cell_type": "code",
   "execution_count": 5,
   "metadata": {
    "_kg_hide-input": true,
    "execution": {
     "iopub.execute_input": "2021-03-31T04:07:11.984068Z",
     "iopub.status.busy": "2021-03-31T04:07:11.983019Z",
     "iopub.status.idle": "2021-03-31T04:07:12.008323Z",
     "shell.execute_reply": "2021-03-31T04:07:12.007671Z"
    },
    "papermill": {
     "duration": 0.065896,
     "end_time": "2021-03-31T04:07:12.008462",
     "exception": false,
     "start_time": "2021-03-31T04:07:11.942566",
     "status": "completed"
    },
    "tags": []
   },
   "outputs": [
    {
     "data": {
      "text/html": [
       "<div>\n",
       "<style scoped>\n",
       "    .dataframe tbody tr th:only-of-type {\n",
       "        vertical-align: middle;\n",
       "    }\n",
       "\n",
       "    .dataframe tbody tr th {\n",
       "        vertical-align: top;\n",
       "    }\n",
       "\n",
       "    .dataframe thead th {\n",
       "        text-align: right;\n",
       "    }\n",
       "</style>\n",
       "<table border=\"1\" class=\"dataframe\">\n",
       "  <thead>\n",
       "    <tr style=\"text-align: right;\">\n",
       "      <th></th>\n",
       "      <th>count</th>\n",
       "      <th>mean</th>\n",
       "      <th>std</th>\n",
       "      <th>min</th>\n",
       "      <th>25%</th>\n",
       "      <th>50%</th>\n",
       "      <th>75%</th>\n",
       "      <th>max</th>\n",
       "    </tr>\n",
       "  </thead>\n",
       "  <tbody>\n",
       "    <tr>\n",
       "      <th>User ID</th>\n",
       "      <td>400.0</td>\n",
       "      <td>1.569154e+07</td>\n",
       "      <td>71658.321581</td>\n",
       "      <td>15566689.0</td>\n",
       "      <td>15626763.75</td>\n",
       "      <td>15694341.5</td>\n",
       "      <td>15750363.0</td>\n",
       "      <td>15815236.0</td>\n",
       "    </tr>\n",
       "    <tr>\n",
       "      <th>Age</th>\n",
       "      <td>400.0</td>\n",
       "      <td>3.765500e+01</td>\n",
       "      <td>10.482877</td>\n",
       "      <td>18.0</td>\n",
       "      <td>29.75</td>\n",
       "      <td>37.0</td>\n",
       "      <td>46.0</td>\n",
       "      <td>60.0</td>\n",
       "    </tr>\n",
       "    <tr>\n",
       "      <th>EstimatedSalary</th>\n",
       "      <td>400.0</td>\n",
       "      <td>6.974250e+04</td>\n",
       "      <td>34096.960282</td>\n",
       "      <td>15000.0</td>\n",
       "      <td>43000.00</td>\n",
       "      <td>70000.0</td>\n",
       "      <td>88000.0</td>\n",
       "      <td>150000.0</td>\n",
       "    </tr>\n",
       "    <tr>\n",
       "      <th>Purchased</th>\n",
       "      <td>400.0</td>\n",
       "      <td>3.575000e-01</td>\n",
       "      <td>0.479864</td>\n",
       "      <td>0.0</td>\n",
       "      <td>0.00</td>\n",
       "      <td>0.0</td>\n",
       "      <td>1.0</td>\n",
       "      <td>1.0</td>\n",
       "    </tr>\n",
       "  </tbody>\n",
       "</table>\n",
       "</div>"
      ],
      "text/plain": [
       "                 count          mean           std         min          25%  \\\n",
       "User ID          400.0  1.569154e+07  71658.321581  15566689.0  15626763.75   \n",
       "Age              400.0  3.765500e+01     10.482877        18.0        29.75   \n",
       "EstimatedSalary  400.0  6.974250e+04  34096.960282     15000.0     43000.00   \n",
       "Purchased        400.0  3.575000e-01      0.479864         0.0         0.00   \n",
       "\n",
       "                        50%         75%         max  \n",
       "User ID          15694341.5  15750363.0  15815236.0  \n",
       "Age                    37.0        46.0        60.0  \n",
       "EstimatedSalary     70000.0     88000.0    150000.0  \n",
       "Purchased               0.0         1.0         1.0  "
      ]
     },
     "execution_count": 5,
     "metadata": {},
     "output_type": "execute_result"
    }
   ],
   "source": [
    "dataset.describe().T"
   ]
  },
  {
   "cell_type": "markdown",
   "metadata": {
    "papermill": {
     "duration": 0.032871,
     "end_time": "2021-03-31T04:07:12.075121",
     "exception": false,
     "start_time": "2021-03-31T04:07:12.042250",
     "status": "completed"
    },
    "tags": []
   },
   "source": [
    "We can see that mean age is arounf 37\n",
    "\n",
    "Mean estimated salary is 69742 $"
   ]
  },
  {
   "cell_type": "markdown",
   "metadata": {
    "papermill": {
     "duration": 0.033077,
     "end_time": "2021-03-31T04:07:12.141704",
     "exception": false,
     "start_time": "2021-03-31T04:07:12.108627",
     "status": "completed"
    },
    "tags": []
   },
   "source": [
    "# 2.Exploratory Data Analysis "
   ]
  },
  {
   "cell_type": "markdown",
   "metadata": {
    "papermill": {
     "duration": 0.032786,
     "end_time": "2021-03-31T04:07:12.207806",
     "exception": false,
     "start_time": "2021-03-31T04:07:12.175020",
     "status": "completed"
    },
    "tags": []
   },
   "source": [
    "## Gender"
   ]
  },
  {
   "cell_type": "code",
   "execution_count": 6,
   "metadata": {
    "_kg_hide-input": true,
    "execution": {
     "iopub.execute_input": "2021-03-31T04:07:12.298627Z",
     "iopub.status.busy": "2021-03-31T04:07:12.297915Z",
     "iopub.status.idle": "2021-03-31T04:07:12.627023Z",
     "shell.execute_reply": "2021-03-31T04:07:12.626404Z"
    },
    "papermill": {
     "duration": 0.386043,
     "end_time": "2021-03-31T04:07:12.627192",
     "exception": false,
     "start_time": "2021-03-31T04:07:12.241149",
     "status": "completed"
    },
    "tags": []
   },
   "outputs": [
    {
     "data": {
      "image/png": "[encoded data removed]",
      "text/plain": [
       "<Figure size 1296x576 with 2 Axes>"
      ]
     },
     "metadata": {},
     "output_type": "display_data"
    }
   ],
   "source": [
    "f,ax=plt.subplots(1,2,figsize=(18,8))\n",
    "dataset['Gender'].value_counts().plot.pie(explode=[0,0.05],autopct='%1.1f%%',ax=ax[0],shadow=True)\n",
    "ax[0].set_title('Purchase by Gender')\n",
    "ax[0].set_ylabel('Count')\n",
    "sns.countplot('Gender',data=dataset,ax=ax[1],order=dataset['Gender'].value_counts().index)\n",
    "ax[1].set_title('Purchase by Gender')\n",
    "plt.show()"
   ]
  },
  {
   "cell_type": "markdown",
   "metadata": {
    "papermill": {
     "duration": 0.034616,
     "end_time": "2021-03-31T04:07:12.697000",
     "exception": false,
     "start_time": "2021-03-31T04:07:12.662384",
     "status": "completed"
    },
    "tags": []
   },
   "source": [
    "Data is almost even between Male and Female with sligh inclination towards female"
   ]
  },
  {
   "cell_type": "markdown",
   "metadata": {
    "papermill": {
     "duration": 0.034739,
     "end_time": "2021-03-31T04:07:12.766655",
     "exception": false,
     "start_time": "2021-03-31T04:07:12.731916",
     "status": "completed"
    },
    "tags": []
   },
   "source": [
    "### Estimated Salary Distribution"
   ]
  },
  {
   "cell_type": "code",
   "execution_count": 7,
   "metadata": {
    "_kg_hide-input": true,
    "execution": {
     "iopub.execute_input": "2021-03-31T04:07:12.947137Z",
     "iopub.status.busy": "2021-03-31T04:07:12.946207Z",
     "iopub.status.idle": "2021-03-31T04:07:13.245488Z",
     "shell.execute_reply": "2021-03-31T04:07:13.244899Z"
    },
    "papermill": {
     "duration": 0.443901,
     "end_time": "2021-03-31T04:07:13.245633",
     "exception": false,
     "start_time": "2021-03-31T04:07:12.801732",
     "status": "completed"
    },
    "tags": []
   },
   "outputs": [
    {
     "data": {
      "image/png": "[encoded data removed]",
      "text/plain": [
       "<Figure size 720x504 with 1 Axes>"
      ]
     },
     "metadata": {},
     "output_type": "display_data"
    }
   ],
   "source": [
    "fig=plt.gcf()\n",
    "fig.set_size_inches(10,7)\n",
    "fig=sns.distplot(dataset['EstimatedSalary'],kde=True,bins=50);"
   ]
  },
  {
   "cell_type": "markdown",
   "metadata": {
    "papermill": {
     "duration": 0.036374,
     "end_time": "2021-03-31T04:07:13.319694",
     "exception": false,
     "start_time": "2021-03-31T04:07:13.283320",
     "status": "completed"
    },
    "tags": []
   },
   "source": [
    "We can see like mean salary of the population is arond 75000 $."
   ]
  },
  {
   "cell_type": "markdown",
   "metadata": {
    "papermill": {
     "duration": 0.036481,
     "end_time": "2021-03-31T04:07:13.393053",
     "exception": false,
     "start_time": "2021-03-31T04:07:13.356572",
     "status": "completed"
    },
    "tags": []
   },
   "source": [
    "### Purchase Distribution"
   ]
  },
  {
   "cell_type": "code",
   "execution_count": 8,
   "metadata": {
    "_kg_hide-input": true,
    "execution": {
     "iopub.execute_input": "2021-03-31T04:07:13.489831Z",
     "iopub.status.busy": "2021-03-31T04:07:13.474131Z",
     "iopub.status.idle": "2021-03-31T04:07:13.724962Z",
     "shell.execute_reply": "2021-03-31T04:07:13.724312Z"
    },
    "papermill": {
     "duration": 0.295152,
     "end_time": "2021-03-31T04:07:13.725123",
     "exception": false,
     "start_time": "2021-03-31T04:07:13.429971",
     "status": "completed"
    },
    "tags": []
   },
   "outputs": [
    {
     "data": {
      "image/png": "[encoded data removed]",
      "text/plain": [
       "<Figure size 1296x576 with 2 Axes>"
      ]
     },
     "metadata": {},
     "output_type": "display_data"
    }
   ],
   "source": [
    "f,ax=plt.subplots(1,2,figsize=(18,8))\n",
    "dataset['Purchased'].value_counts().plot.pie(explode=[0,0.05],autopct='%1.1f%%',ax=ax[0],shadow=True)\n",
    "ax[0].set_title('Purchase Distribution')\n",
    "ax[0].set_ylabel('Count')\n",
    "sns.countplot('Purchased',data=dataset,ax=ax[1],order=dataset['Purchased'].value_counts().index)\n",
    "ax[1].set_title('Purchase Distribution')\n",
    "plt.show()"
   ]
  },
  {
   "cell_type": "markdown",
   "metadata": {
    "papermill": {
     "duration": 0.037646,
     "end_time": "2021-03-31T04:07:13.801672",
     "exception": false,
     "start_time": "2021-03-31T04:07:13.764026",
     "status": "completed"
    },
    "tags": []
   },
   "source": [
    "So Most people in the dataset have not brough the car.All our attempts should be towards selling more cars."
   ]
  },
  {
   "cell_type": "markdown",
   "metadata": {
    "papermill": {
     "duration": 0.037687,
     "end_time": "2021-03-31T04:07:13.878157",
     "exception": false,
     "start_time": "2021-03-31T04:07:13.840470",
     "status": "completed"
    },
    "tags": []
   },
   "source": [
    "# 3.Model Built"
   ]
  },
  {
   "cell_type": "markdown",
   "metadata": {
    "papermill": {
     "duration": 0.037559,
     "end_time": "2021-03-31T04:07:13.954714",
     "exception": false,
     "start_time": "2021-03-31T04:07:13.917155",
     "status": "completed"
    },
    "tags": []
   },
   "source": [
    "### Generating Matrix of Features"
   ]
  },
  {
   "cell_type": "code",
   "execution_count": 9,
   "metadata": {
    "_kg_hide-input": true,
    "execution": {
     "iopub.execute_input": "2021-03-31T04:07:14.037285Z",
     "iopub.status.busy": "2021-03-31T04:07:14.036632Z",
     "iopub.status.idle": "2021-03-31T04:07:14.039871Z",
     "shell.execute_reply": "2021-03-31T04:07:14.039261Z"
    },
    "papermill": {
     "duration": 0.04739,
     "end_time": "2021-03-31T04:07:14.040030",
     "exception": false,
     "start_time": "2021-03-31T04:07:13.992640",
     "status": "completed"
    },
    "tags": []
   },
   "outputs": [],
   "source": [
    "X=dataset.iloc[:,[2,3]].values\n",
    "y=dataset.iloc[:,4].values"
   ]
  },
  {
   "cell_type": "markdown",
   "metadata": {
    "papermill": {
     "duration": 0.038264,
     "end_time": "2021-03-31T04:07:14.116654",
     "exception": false,
     "start_time": "2021-03-31T04:07:14.078390",
     "status": "completed"
    },
    "tags": []
   },
   "source": [
    "### Test Train Split"
   ]
  },
  {
   "cell_type": "code",
   "execution_count": 10,
   "metadata": {
    "_kg_hide-input": true,
    "execution": {
     "iopub.execute_input": "2021-03-31T04:07:14.199191Z",
     "iopub.status.busy": "2021-03-31T04:07:14.198549Z",
     "iopub.status.idle": "2021-03-31T04:07:14.413770Z",
     "shell.execute_reply": "2021-03-31T04:07:14.414334Z"
    },
    "papermill": {
     "duration": 0.259403,
     "end_time": "2021-03-31T04:07:14.414552",
     "exception": false,
     "start_time": "2021-03-31T04:07:14.155149",
     "status": "completed"
    },
    "tags": []
   },
   "outputs": [],
   "source": [
    "from sklearn.model_selection import train_test_split   #cross_validation doesnt work any more\n",
    "X_train,X_test,y_train,y_test=train_test_split(X,y,test_size=0.2,random_state=0) \n",
    "#X_train"
   ]
  },
  {
   "cell_type": "markdown",
   "metadata": {
    "papermill": {
     "duration": 0.050344,
     "end_time": "2021-03-31T04:07:14.515766",
     "exception": false,
     "start_time": "2021-03-31T04:07:14.465422",
     "status": "completed"
    },
    "tags": []
   },
   "source": [
    "### Feature Scaling "
   ]
  },
  {
   "cell_type": "code",
   "execution_count": 11,
   "metadata": {
    "_kg_hide-input": true,
    "execution": {
     "iopub.execute_input": "2021-03-31T04:07:14.607103Z",
     "iopub.status.busy": "2021-03-31T04:07:14.606151Z",
     "iopub.status.idle": "2021-03-31T04:07:14.611867Z",
     "shell.execute_reply": "2021-03-31T04:07:14.612469Z"
    },
    "papermill": {
     "duration": 0.051523,
     "end_time": "2021-03-31T04:07:14.612647",
     "exception": false,
     "start_time": "2021-03-31T04:07:14.561124",
     "status": "completed"
    },
    "tags": []
   },
   "outputs": [],
   "source": [
    "from sklearn.preprocessing import StandardScaler \n",
    "sc_X=StandardScaler()\n",
    "X_train=sc_X.fit_transform(X_train)\n",
    "X_test=sc_X.fit_transform(X_test)\n",
    "#X_train"
   ]
  },
  {
   "cell_type": "markdown",
   "metadata": {
    "papermill": {
     "duration": 0.038106,
     "end_time": "2021-03-31T04:07:14.689167",
     "exception": false,
     "start_time": "2021-03-31T04:07:14.651061",
     "status": "completed"
    },
    "tags": []
   },
   "source": [
    "### KNN Model Fitting"
   ]
  },
  {
   "cell_type": "code",
   "execution_count": 12,
   "metadata": {
    "_kg_hide-input": true,
    "execution": {
     "iopub.execute_input": "2021-03-31T04:07:14.769129Z",
     "iopub.status.busy": "2021-03-31T04:07:14.768177Z",
     "iopub.status.idle": "2021-03-31T04:07:14.933713Z",
     "shell.execute_reply": "2021-03-31T04:07:14.934234Z"
    },
    "papermill": {
     "duration": 0.207252,
     "end_time": "2021-03-31T04:07:14.934428",
     "exception": false,
     "start_time": "2021-03-31T04:07:14.727176",
     "status": "completed"
    },
    "tags": []
   },
   "outputs": [
    {
     "data": {
      "text/plain": [
       "KNeighborsClassifier(n_neighbors=1)"
      ]
     },
     "execution_count": 12,
     "metadata": {},
     "output_type": "execute_result"
    }
   ],
   "source": [
    "from sklearn.neighbors import KNeighborsClassifier\n",
    "classifier=KNeighborsClassifier(n_neighbors=1,metric='minkowski',p=2)\n",
    "classifier.fit(X_train,y_train)"
   ]
  },
  {
   "cell_type": "markdown",
   "metadata": {
    "papermill": {
     "duration": 0.038953,
     "end_time": "2021-03-31T04:07:15.012808",
     "exception": false,
     "start_time": "2021-03-31T04:07:14.973855",
     "status": "completed"
    },
    "tags": []
   },
   "source": [
    "### Predicting Test Results"
   ]
  },
  {
   "cell_type": "code",
   "execution_count": 13,
   "metadata": {
    "_kg_hide-input": true,
    "execution": {
     "iopub.execute_input": "2021-03-31T04:07:15.095578Z",
     "iopub.status.busy": "2021-03-31T04:07:15.094655Z",
     "iopub.status.idle": "2021-03-31T04:07:15.103375Z",
     "shell.execute_reply": "2021-03-31T04:07:15.102857Z"
    },
    "papermill": {
     "duration": 0.05105,
     "end_time": "2021-03-31T04:07:15.103532",
     "exception": false,
     "start_time": "2021-03-31T04:07:15.052482",
     "status": "completed"
    },
    "tags": []
   },
   "outputs": [],
   "source": [
    "y_pred=classifier.predict(X_test)"
   ]
  },
  {
   "cell_type": "markdown",
   "metadata": {
    "papermill": {
     "duration": 0.038795,
     "end_time": "2021-03-31T04:07:15.181527",
     "exception": false,
     "start_time": "2021-03-31T04:07:15.142732",
     "status": "completed"
    },
    "tags": []
   },
   "source": [
    "# 4.Model Evaluation"
   ]
  },
  {
   "cell_type": "markdown",
   "metadata": {
    "papermill": {
     "duration": 0.040881,
     "end_time": "2021-03-31T04:07:15.261830",
     "exception": false,
     "start_time": "2021-03-31T04:07:15.220949",
     "status": "completed"
    },
    "tags": []
   },
   "source": [
    "### Confusion Matrix"
   ]
  },
  {
   "cell_type": "code",
   "execution_count": 14,
   "metadata": {
    "_kg_hide-input": true,
    "execution": {
     "iopub.execute_input": "2021-03-31T04:07:15.345366Z",
     "iopub.status.busy": "2021-03-31T04:07:15.344690Z",
     "iopub.status.idle": "2021-03-31T04:07:15.533492Z",
     "shell.execute_reply": "2021-03-31T04:07:15.532716Z"
    },
    "papermill": {
     "duration": 0.231107,
     "end_time": "2021-03-31T04:07:15.533644",
     "exception": false,
     "start_time": "2021-03-31T04:07:15.302537",
     "status": "completed"
    },
    "tags": []
   },
   "outputs": [
    {
     "data": {
      "image/png": "[encoded data removed]",
      "text/plain": [
       "<Figure size 360x360 with 2 Axes>"
      ]
     },
     "metadata": {},
     "output_type": "display_data"
    }
   ],
   "source": [
    "#from sklearn.metrics import confusion_matrix  #Class has capital at the begining function starts with small letters \n",
    "from sklearn.metrics import confusion_matrix,classification_report,accuracy_score\n",
    "cm=confusion_matrix(y_test,y_pred)\n",
    "import seaborn as sns\n",
    "import matplotlib.pyplot as plt\n",
    "f, ax = plt.subplots(figsize =(5,5))\n",
    "sns.heatmap(cm,annot = True,linewidths=0.5,linecolor=\"red\",fmt = \".0f\",ax=ax)\n",
    "plt.title(\"Test for Test Dataset\")\n",
    "plt.xlabel(\"predicted y values\")\n",
    "plt.ylabel(\"real y values\")\n",
    "plt.show()"
   ]
  },
  {
   "cell_type": "markdown",
   "metadata": {
    "papermill": {
     "duration": 0.040188,
     "end_time": "2021-03-31T04:07:15.615233",
     "exception": false,
     "start_time": "2021-03-31T04:07:15.575045",
     "status": "completed"
    },
    "tags": []
   },
   "source": [
    "### Accoracy Score"
   ]
  },
  {
   "cell_type": "code",
   "execution_count": 15,
   "metadata": {
    "_kg_hide-input": true,
    "execution": {
     "iopub.execute_input": "2021-03-31T04:07:15.701487Z",
     "iopub.status.busy": "2021-03-31T04:07:15.700661Z",
     "iopub.status.idle": "2021-03-31T04:07:15.703762Z",
     "shell.execute_reply": "2021-03-31T04:07:15.704239Z"
    },
    "papermill": {
     "duration": 0.04922,
     "end_time": "2021-03-31T04:07:15.704409",
     "exception": false,
     "start_time": "2021-03-31T04:07:15.655189",
     "status": "completed"
    },
    "tags": []
   },
   "outputs": [
    {
     "name": "stdout",
     "output_type": "stream",
     "text": [
      "0.9125\n"
     ]
    }
   ],
   "source": [
    "print(accuracy_score(y_test,y_pred))"
   ]
  },
  {
   "cell_type": "markdown",
   "metadata": {
    "papermill": {
     "duration": 0.040298,
     "end_time": "2021-03-31T04:07:15.785212",
     "exception": false,
     "start_time": "2021-03-31T04:07:15.744914",
     "status": "completed"
    },
    "tags": []
   },
   "source": [
    "Correct predictions =54+21=78\n",
    "\n",
    "Wrong predictions =1+4=5\n",
    "\n",
    "Accuracy = (78/83)*100 =93.97 %"
   ]
  },
  {
   "cell_type": "markdown",
   "metadata": {
    "papermill": {
     "duration": 0.040714,
     "end_time": "2021-03-31T04:07:15.866474",
     "exception": false,
     "start_time": "2021-03-31T04:07:15.825760",
     "status": "completed"
    },
    "tags": []
   },
   "source": [
    "### Classification Report"
   ]
  },
  {
   "cell_type": "code",
   "execution_count": 16,
   "metadata": {
    "_kg_hide-input": true,
    "execution": {
     "iopub.execute_input": "2021-03-31T04:07:15.956505Z",
     "iopub.status.busy": "2021-03-31T04:07:15.955695Z",
     "iopub.status.idle": "2021-03-31T04:07:15.963189Z",
     "shell.execute_reply": "2021-03-31T04:07:15.963877Z"
    },
    "papermill": {
     "duration": 0.056167,
     "end_time": "2021-03-31T04:07:15.964134",
     "exception": false,
     "start_time": "2021-03-31T04:07:15.907967",
     "status": "completed"
    },
    "tags": []
   },
   "outputs": [
    {
     "name": "stdout",
     "output_type": "stream",
     "text": [
      "              precision    recall  f1-score   support\n",
      "\n",
      "           0       0.95      0.93      0.94        58\n",
      "           1       0.83      0.86      0.84        22\n",
      "\n",
      "    accuracy                           0.91        80\n",
      "   macro avg       0.89      0.90      0.89        80\n",
      "weighted avg       0.91      0.91      0.91        80\n",
      "\n"
     ]
    }
   ],
   "source": [
    "print(classification_report(y_test,y_pred))"
   ]
  },
  {
   "cell_type": "markdown",
   "metadata": {
    "papermill": {
     "duration": 0.041835,
     "end_time": "2021-03-31T04:07:16.047942",
     "exception": false,
     "start_time": "2021-03-31T04:07:16.006107",
     "status": "completed"
    },
    "tags": []
   },
   "source": [
    "### Visualising the Training Set Results"
   ]
  },
  {
   "cell_type": "code",
   "execution_count": 17,
   "metadata": {
    "_kg_hide-input": true,
    "execution": {
     "iopub.execute_input": "2021-03-31T04:07:16.140627Z",
     "iopub.status.busy": "2021-03-31T04:07:16.139887Z",
     "iopub.status.idle": "2021-03-31T04:07:28.231921Z",
     "shell.execute_reply": "2021-03-31T04:07:28.230966Z"
    },
    "papermill": {
     "duration": 12.14321,
     "end_time": "2021-03-31T04:07:28.232113",
     "exception": false,
     "start_time": "2021-03-31T04:07:16.088903",
     "status": "completed"
    },
    "tags": []
   },
   "outputs": [
    {
     "data": {
      "image/png": "[encoded data removed]",
      "text/plain": [
       "<Figure size 432x288 with 1 Axes>"
      ]
     },
     "metadata": {},
     "output_type": "display_data"
    }
   ],
   "source": [
    "from matplotlib.colors import ListedColormap\n",
    "X_set,y_set=X_train,y_train\n",
    "X1,X2=np.meshgrid(np.arange(start=X_set[:,0].min()-1,stop=X_set[:,0].max()+1,step=0.01),\n",
    "                 np.arange(start=X_set[:,1].min()-1,stop=X_set[:,1].max()+1,step=0.01))\n",
    "plt.contourf(X1,X2,classifier.predict(np.array([X1.ravel(),X2.ravel()]).T).reshape(X1.shape),\n",
    "            alpha=0.75,cmap=ListedColormap(('red','green')))\n",
    "plt.xlim(X1.min(),X1.max())\n",
    "plt.ylim(X2.min(),X2.max())\n",
    "for i,j in enumerate(np.unique(y_set)):\n",
    "    plt.scatter(X_set[y_set==j,0],X_set[y_set==j,1],\n",
    "               c=ListedColormap(('red','green'))(i),label=j)\n",
    "plt.title('K-NN (Training set)')\n",
    "plt.xlabel('Age')\n",
    "plt.ylabel('Estimated Salary')\n",
    "plt.show()"
   ]
  },
  {
   "cell_type": "markdown",
   "metadata": {
    "papermill": {
     "duration": 0.04413,
     "end_time": "2021-03-31T04:07:28.318929",
     "exception": false,
     "start_time": "2021-03-31T04:07:28.274799",
     "status": "completed"
    },
    "tags": []
   },
   "source": [
    "### Visualizing the Test Result"
   ]
  },
  {
   "cell_type": "code",
   "execution_count": 18,
   "metadata": {
    "_kg_hide-input": true,
    "execution": {
     "iopub.execute_input": "2021-03-31T04:07:28.414823Z",
     "iopub.status.busy": "2021-03-31T04:07:28.414155Z",
     "iopub.status.idle": "2021-03-31T04:07:40.633184Z",
     "shell.execute_reply": "2021-03-31T04:07:40.633638Z"
    },
    "papermill": {
     "duration": 12.272391,
     "end_time": "2021-03-31T04:07:40.633815",
     "exception": false,
     "start_time": "2021-03-31T04:07:28.361424",
     "status": "completed"
    },
    "tags": []
   },
   "outputs": [
    {
     "data": {
      "image/png": "[encoded data removed]",
      "text/plain": [
       "<Figure size 432x288 with 1 Axes>"
      ]
     },
     "metadata": {},
     "output_type": "display_data"
    }
   ],
   "source": [
    "\n",
    "from matplotlib.colors import ListedColormap\n",
    "X_set,y_set=X_test,y_test\n",
    "X1,X2=np.meshgrid(np.arange(start=X_set[:,0].min()-1,stop=X_set[:,0].max()+1,step=0.01),\n",
    "                 np.arange(start=X_set[:,1].min()-1,stop=X_set[:,1].max()+1,step=0.01))\n",
    "plt.contourf(X1,X2,classifier.predict(np.array([X1.ravel(),X2.ravel()]).T).reshape(X1.shape),\n",
    "            alpha=0.75,cmap=ListedColormap(('red','green')))\n",
    "plt.xlim(X1.min(),X1.max())\n",
    "plt.ylim(X2.min(),X2.max())\n",
    "for i,j in enumerate(np.unique(y_set)):\n",
    "    plt.scatter(X_set[y_set==j,0],X_set[y_set==j,1],\n",
    "               c=ListedColormap(('red','green'))(i),label=j)\n",
    "plt.title('K-NN (Test set)')\n",
    "plt.xlabel('Age')\n",
    "plt.ylabel('Estimated Salary')\n",
    "plt.legend()\n",
    "plt.show()"
   ]
  },
  {
   "cell_type": "markdown",
   "metadata": {
    "papermill": {
     "duration": 0.043128,
     "end_time": "2021-03-31T04:07:40.720702",
     "exception": false,
     "start_time": "2021-03-31T04:07:40.677574",
     "status": "completed"
    },
    "tags": []
   },
   "source": [
    "Red area represent the people who didnt buy the car.Green area represent people who brought the car.We can see that the accuracy level obtained is greater than thats we might have obtained by other Algorithms like Logistic Regression."
   ]
  },
  {
   "cell_type": "markdown",
   "metadata": {
    "papermill": {
     "duration": 0.043253,
     "end_time": "2021-03-31T04:07:40.807243",
     "exception": false,
     "start_time": "2021-03-31T04:07:40.763990",
     "status": "completed"
    },
    "tags": []
   },
   "source": [
    "# 5.Optimum Value of K "
   ]
  },
  {
   "cell_type": "code",
   "execution_count": 19,
   "metadata": {
    "_kg_hide-input": true,
    "execution": {
     "iopub.execute_input": "2021-03-31T04:07:40.898966Z",
     "iopub.status.busy": "2021-03-31T04:07:40.897710Z",
     "iopub.status.idle": "2021-03-31T04:07:41.072854Z",
     "shell.execute_reply": "2021-03-31T04:07:41.073339Z"
    },
    "papermill": {
     "duration": 0.22247,
     "end_time": "2021-03-31T04:07:41.073520",
     "exception": false,
     "start_time": "2021-03-31T04:07:40.851050",
     "status": "completed"
    },
    "tags": []
   },
   "outputs": [],
   "source": [
    "error_rate=[]\n",
    "\n",
    "for i in range(1,40):\n",
    "    knn=KNeighborsClassifier(n_neighbors=i)\n",
    "    knn.fit(X_train,y_train)\n",
    "    pred_i=knn.predict(X_test)\n",
    "    error_rate.append(np.mean(pred_i != y_test))"
   ]
  },
  {
   "cell_type": "code",
   "execution_count": 20,
   "metadata": {
    "_kg_hide-input": true,
    "execution": {
     "iopub.execute_input": "2021-03-31T04:07:41.164366Z",
     "iopub.status.busy": "2021-03-31T04:07:41.163453Z",
     "iopub.status.idle": "2021-03-31T04:07:41.349755Z",
     "shell.execute_reply": "2021-03-31T04:07:41.349239Z"
    },
    "papermill": {
     "duration": 0.233053,
     "end_time": "2021-03-31T04:07:41.349905",
     "exception": false,
     "start_time": "2021-03-31T04:07:41.116852",
     "status": "completed"
    },
    "tags": []
   },
   "outputs": [
    {
     "data": {
      "image/png": "[encoded data removed]",
      "text/plain": [
       "<Figure size 720x432 with 1 Axes>"
      ]
     },
     "metadata": {},
     "output_type": "display_data"
    }
   ],
   "source": [
    "plt.figure(figsize=(10,6))\n",
    "plt.plot(range(1,40),error_rate,color='blue',linestyle='dashed',marker='o',markerfacecolor='red',markersize=10)\n",
    "plt.title('Error Rate Vs K Value')\n",
    "plt.xlabel('K')\n",
    "plt.ylabel('Error Rate')\n",
    "plt.show()"
   ]
  },
  {
   "cell_type": "markdown",
   "metadata": {
    "papermill": {
     "duration": 0.045051,
     "end_time": "2021-03-31T04:07:41.440562",
     "exception": false,
     "start_time": "2021-03-31T04:07:41.395511",
     "status": "completed"
    },
    "tags": []
   },
   "source": [
    "So here we have plotted the change in error with different values of K.We can see that with k=5 we do get a very low value of Error.So we can make a model with K=5 and see the results."
   ]
  },
  {
   "cell_type": "markdown",
   "metadata": {
    "papermill": {
     "duration": 0.044861,
     "end_time": "2021-03-31T04:07:41.530956",
     "exception": false,
     "start_time": "2021-03-31T04:07:41.486095",
     "status": "completed"
    },
    "tags": []
   },
   "source": [
    "### Building Model with K=5"
   ]
  },
  {
   "cell_type": "code",
   "execution_count": 21,
   "metadata": {
    "_kg_hide-input": true,
    "execution": {
     "iopub.execute_input": "2021-03-31T04:07:41.628893Z",
     "iopub.status.busy": "2021-03-31T04:07:41.628114Z",
     "iopub.status.idle": "2021-03-31T04:07:41.632211Z",
     "shell.execute_reply": "2021-03-31T04:07:41.631692Z"
    },
    "papermill": {
     "duration": 0.056153,
     "end_time": "2021-03-31T04:07:41.632355",
     "exception": false,
     "start_time": "2021-03-31T04:07:41.576202",
     "status": "completed"
    },
    "tags": []
   },
   "outputs": [
    {
     "data": {
      "text/plain": [
       "KNeighborsClassifier()"
      ]
     },
     "execution_count": 21,
     "metadata": {},
     "output_type": "execute_result"
    }
   ],
   "source": [
    "from sklearn.neighbors import KNeighborsClassifier\n",
    "classifier=KNeighborsClassifier(n_neighbors=5,metric='minkowski',p=2)\n",
    "classifier.fit(X_train,y_train)"
   ]
  },
  {
   "cell_type": "code",
   "execution_count": 22,
   "metadata": {
    "_kg_hide-input": true,
    "execution": {
     "iopub.execute_input": "2021-03-31T04:07:41.727752Z",
     "iopub.status.busy": "2021-03-31T04:07:41.727055Z",
     "iopub.status.idle": "2021-03-31T04:07:41.734555Z",
     "shell.execute_reply": "2021-03-31T04:07:41.735106Z"
    },
    "papermill": {
     "duration": 0.057096,
     "end_time": "2021-03-31T04:07:41.735303",
     "exception": false,
     "start_time": "2021-03-31T04:07:41.678207",
     "status": "completed"
    },
    "tags": []
   },
   "outputs": [],
   "source": [
    "y_pred=classifier.predict(X_test)"
   ]
  },
  {
   "cell_type": "markdown",
   "metadata": {
    "papermill": {
     "duration": 0.045726,
     "end_time": "2021-03-31T04:07:41.826987",
     "exception": false,
     "start_time": "2021-03-31T04:07:41.781261",
     "status": "completed"
    },
    "tags": []
   },
   "source": [
    "## Model Performance with K=5"
   ]
  },
  {
   "cell_type": "markdown",
   "metadata": {
    "papermill": {
     "duration": 0.045512,
     "end_time": "2021-03-31T04:07:41.918479",
     "exception": false,
     "start_time": "2021-03-31T04:07:41.872967",
     "status": "completed"
    },
    "tags": []
   },
   "source": [
    "### Confusion Matrix K=5"
   ]
  },
  {
   "cell_type": "code",
   "execution_count": 23,
   "metadata": {
    "_kg_hide-input": true,
    "execution": {
     "iopub.execute_input": "2021-03-31T04:07:42.014180Z",
     "iopub.status.busy": "2021-03-31T04:07:42.013484Z",
     "iopub.status.idle": "2021-03-31T04:07:42.191100Z",
     "shell.execute_reply": "2021-03-31T04:07:42.191617Z"
    },
    "papermill": {
     "duration": 0.227081,
     "end_time": "2021-03-31T04:07:42.191788",
     "exception": false,
     "start_time": "2021-03-31T04:07:41.964707",
     "status": "completed"
    },
    "tags": []
   },
   "outputs": [
    {
     "data": {
      "image/png": "[encoded data removed]",
      "text/plain": [
       "<Figure size 360x360 with 2 Axes>"
      ]
     },
     "metadata": {},
     "output_type": "display_data"
    }
   ],
   "source": [
    "#from sklearn.metrics import confusion_matrix  #Class has capital at the begining function starts with small letters \n",
    "from sklearn.metrics import confusion_matrix,classification_report,accuracy_score\n",
    "cm=confusion_matrix(y_test,y_pred)\n",
    "import seaborn as sns\n",
    "import matplotlib.pyplot as plt\n",
    "f, ax = plt.subplots(figsize =(5,5))\n",
    "sns.heatmap(cm,annot = True,linewidths=0.5,linecolor=\"red\",fmt = \".0f\",ax=ax)\n",
    "plt.title(\"Test for Test Dataset\")\n",
    "plt.xlabel(\"predicted y values\")\n",
    "plt.ylabel(\"real y values\")\n",
    "plt.show()"
   ]
  },
  {
   "cell_type": "markdown",
   "metadata": {
    "papermill": {
     "duration": 0.046545,
     "end_time": "2021-03-31T04:07:42.286187",
     "exception": false,
     "start_time": "2021-03-31T04:07:42.239642",
     "status": "completed"
    },
    "tags": []
   },
   "source": [
    "To can refer to my other notebooks from https://www.kaggle.com/binuthomasphilip/code"
   ]
  },
  {
   "cell_type": "markdown",
   "metadata": {
    "papermill": {
     "duration": 0.046569,
     "end_time": "2021-03-31T04:07:42.380046",
     "exception": false,
     "start_time": "2021-03-31T04:07:42.333477",
     "status": "completed"
    },
    "tags": []
   },
   "source": [
    "### Accuracy Score K=5"
   ]
  },
  {
   "cell_type": "code",
   "execution_count": 24,
   "metadata": {
    "_kg_hide-input": true,
    "execution": {
     "iopub.execute_input": "2021-03-31T04:07:42.481261Z",
     "iopub.status.busy": "2021-03-31T04:07:42.480610Z",
     "iopub.status.idle": "2021-03-31T04:07:42.484253Z",
     "shell.execute_reply": "2021-03-31T04:07:42.483641Z"
    },
    "papermill": {
     "duration": 0.055751,
     "end_time": "2021-03-31T04:07:42.484399",
     "exception": false,
     "start_time": "2021-03-31T04:07:42.428648",
     "status": "completed"
    },
    "tags": []
   },
   "outputs": [
    {
     "name": "stdout",
     "output_type": "stream",
     "text": [
      "0.9375\n"
     ]
    }
   ],
   "source": [
    "print(accuracy_score(y_test,y_pred))"
   ]
  },
  {
   "cell_type": "markdown",
   "metadata": {
    "papermill": {
     "duration": 0.054386,
     "end_time": "2021-03-31T04:07:42.593376",
     "exception": false,
     "start_time": "2021-03-31T04:07:42.538990",
     "status": "completed"
    },
    "tags": []
   },
   "source": [
    "### Classification Report K=5"
   ]
  },
  {
   "cell_type": "code",
   "execution_count": 25,
   "metadata": {
    "_kg_hide-input": true,
    "execution": {
     "iopub.execute_input": "2021-03-31T04:07:42.704912Z",
     "iopub.status.busy": "2021-03-31T04:07:42.704315Z",
     "iopub.status.idle": "2021-03-31T04:07:42.716207Z",
     "shell.execute_reply": "2021-03-31T04:07:42.716780Z"
    },
    "papermill": {
     "duration": 0.072777,
     "end_time": "2021-03-31T04:07:42.716958",
     "exception": false,
     "start_time": "2021-03-31T04:07:42.644181",
     "status": "completed"
    },
    "tags": []
   },
   "outputs": [
    {
     "name": "stdout",
     "output_type": "stream",
     "text": [
      "              precision    recall  f1-score   support\n",
      "\n",
      "           0       0.98      0.93      0.96        58\n",
      "           1       0.84      0.95      0.89        22\n",
      "\n",
      "    accuracy                           0.94        80\n",
      "   macro avg       0.91      0.94      0.92        80\n",
      "weighted avg       0.94      0.94      0.94        80\n",
      "\n"
     ]
    }
   ],
   "source": [
    "print(classification_report(y_test,y_pred))"
   ]
  },
  {
   "cell_type": "markdown",
   "metadata": {
    "papermill": {
     "duration": 0.0554,
     "end_time": "2021-03-31T04:07:42.822636",
     "exception": false,
     "start_time": "2021-03-31T04:07:42.767236",
     "status": "completed"
    },
    "tags": []
   },
   "source": [
    "So we can see that when we increased the K number from 1 to 5 the accuracy,Precision and Recall of the model have improved."
   ]
  },
  {
   "cell_type": "markdown",
   "metadata": {
    "papermill": {
     "duration": 0.048322,
     "end_time": "2021-03-31T04:07:42.928705",
     "exception": false,
     "start_time": "2021-03-31T04:07:42.880383",
     "status": "completed"
    },
    "tags": []
   },
   "source": [
    "# 6.Conclusion:\n",
    "\n",
    "1.KNN algorithm is used for classification.Here we have predicted purchase decision using KNN Algorithm.\n",
    "\n",
    "2.In case of KNN algorithm the critical factor is to find out the optimum value of K.The optimum value of K results in better model performance.\n",
    "\n",
    "3.We found out that K=5 is the optimum vale of K for this dataset.By using k=5 the accuracy of our model has increased from 91% to 93%."
   ]
  }
 ],
 "metadata": {
  "kernelspec": {
   "display_name": "Python 3",
   "language": "python",
   "name": "python3"
  },
  "language_info": {
   "codemirror_mode": {
    "name": "ipython",
    "version": 3
   },
   "file_extension": ".py",
   "mimetype": "text/x-python",
   "name": "python",
   "nbconvert_exporter": "python",
   "pygments_lexer": "ipython3",
   "version": "3.7.9"
  },
  "papermill": {
   "default_parameters": {},
   "duration": 39.30276,
   "end_time": "2021-03-31T04:07:43.689545",
   "environment_variables": {},
   "exception": null,
   "input_path": "__notebook__.ipynb",
   "output_path": "__notebook__.ipynb",
   "parameters": {},
   "start_time": "2021-03-31T04:07:04.386785",
   "version": "2.2.2"
  }
 },
 "nbformat": 4,
 "nbformat_minor": 4
}
